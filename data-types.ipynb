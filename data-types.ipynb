{
 "cells": [
  {
   "cell_type": "code",
   "execution_count": 2,
   "metadata": {
    "vscode": {
     "languageId": "rust"
    }
   },
   "outputs": [],
   "source": [
    "// integer types\n",
    "\n",
    "// signed integers\n",
    "let x = 1i8;\n",
    "let x = 1i16;\n",
    "let x = 1i32;\n",
    "let x = 1i64;\n",
    "\n",
    "// unsigned integers\n",
    "let x = 1u8;\n",
    "let x = 1u16;\n",
    "let x = 1u32;\n",
    "let x = 1u64;\n",
    "\n",
    "// architecture specific length\n",
    "let x = 1isize;\n",
    "let x = 1usize;"
   ]
  },
  {
   "cell_type": "code",
   "execution_count": 3,
   "metadata": {
    "vscode": {
     "languageId": "rust"
    }
   },
   "outputs": [
    {
     "name": "stdout",
     "output_type": "stream",
     "text": [
      "hexadecimal 0xff = 255\n",
      "octal 0o77 = 63\n",
      "binary 0b1000_1111 = 143\n",
      "A byte value = 65\n"
     ]
    }
   ],
   "source": [
    "// bases\n",
    "let x = 0xff;\n",
    "println!(\"hexadecimal 0xff = {x}\");\n",
    "let x = 0o77;\n",
    "println!(\"octal 0o77 = {x}\");\n",
    "let x = 0b1000_1111;\n",
    "println!(\"binary 0b1000_1111 = {x}\");\n",
    "let x = b'A';\n",
    "println!(\"A byte value = {x}\");"
   ]
  },
  {
   "cell_type": "code",
   "execution_count": 4,
   "metadata": {
    "vscode": {
     "languageId": "rust"
    }
   },
   "outputs": [],
   "source": [
    "// floating point types\n",
    "let x = 1f32;\n",
    "let x = 1f64;"
   ]
  },
  {
   "cell_type": "code",
   "execution_count": 5,
   "metadata": {
    "vscode": {
     "languageId": "rust"
    }
   },
   "outputs": [],
   "source": [
    "// boolean type\n",
    "let x = true;\n",
    "let x  = false;\n",
    "let x : bool = false;"
   ]
  },
  {
   "cell_type": "code",
   "execution_count": 6,
   "metadata": {
    "vscode": {
     "languageId": "rust"
    }
   },
   "outputs": [],
   "source": [
    "// character type\n",
    "let x = 'x';\n",
    "let x: char = 'x';"
   ]
  },
  {
   "cell_type": "code",
   "execution_count": 7,
   "metadata": {
    "vscode": {
     "languageId": "rust"
    }
   },
   "outputs": [
    {
     "name": "stdout",
     "output_type": "stream",
     "text": [
      "a = string; b = true; c = 1\n"
     ]
    }
   ],
   "source": [
    "// tuples\n",
    "let x = (\"string\", true, 1.0);\n",
    "let (a, b, c) = x;\n",
    "println!(\"a = {a}; b = {b}; c = {c}\");"
   ]
  },
  {
   "cell_type": "code",
   "execution_count": 8,
   "metadata": {
    "vscode": {
     "languageId": "rust"
    }
   },
   "outputs": [
    {
     "name": "stdout",
     "output_type": "stream",
     "text": [
      "a = string; b = true; c = 1\n"
     ]
    }
   ],
   "source": [
    "let x = (\"string\", true, 1.0);\n",
    "let a = x.0;\n",
    "let b = x.1;\n",
    "let c = x.2;\n",
    "println!(\"a = {a}; b = {b}; c = {c}\");"
   ]
  },
  {
   "cell_type": "code",
   "execution_count": 9,
   "metadata": {
    "vscode": {
     "languageId": "rust"
    }
   },
   "outputs": [],
   "source": [
    "// arrays\n",
    "\n",
    "// all array elements must have the same type, the size of the aray is part of it's type\n",
    "let a = [1, 2, 3, 4, 5];\n",
    "let a: [i32; 5] = [1, 2, 3, 4, 5];"
   ]
  },
  {
   "cell_type": "code",
   "execution_count": 10,
   "metadata": {
    "vscode": {
     "languageId": "rust"
    }
   },
   "outputs": [
    {
     "name": "stdout",
     "output_type": "stream",
     "text": [
      "a_1 = 3; a_4 = 3\n"
     ]
    }
   ],
   "source": [
    "// the same value repeated 5 times\n",
    "let a = [3; 5];\n",
    "let a_1 = a[0];\n",
    "let a_4 = a[4];\n",
    "\n",
    "println!(\"a_1 = {a_1}; a_4 = {a_4}\");"
   ]
  },
  {
   "cell_type": "code",
   "execution_count": 11,
   "metadata": {
    "vscode": {
     "languageId": "rust"
    }
   },
   "outputs": [
    {
     "ename": "Error",
     "evalue": "this operation will panic at runtime",
     "output_type": "error",
     "traceback": [
      "\u001b[31m[unconditional_panic] Error:\u001b[0m this operation will panic at runtime",
      "   \u001b[38;5;246m╭\u001b[0m\u001b[38;5;246m─\u001b[0m\u001b[38;5;246m[\u001b[0mcommand_11:1:1\u001b[38;5;246m]\u001b[0m",
      "   \u001b[38;5;246m│\u001b[0m",
      " \u001b[38;5;246m3 │\u001b[0m \u001b[38;5;249ml\u001b[0m\u001b[38;5;249me\u001b[0m\u001b[38;5;249mt\u001b[0m\u001b[38;5;249m \u001b[0m\u001b[38;5;249ma\u001b[0m\u001b[38;5;249m_\u001b[0m\u001b[38;5;249m1\u001b[0m\u001b[38;5;249m \u001b[0m\u001b[38;5;249m=\u001b[0m\u001b[38;5;249m \u001b[0m\u001b[38;5;54ma\u001b[0m\u001b[38;5;54m[\u001b[0m\u001b[38;5;54m5\u001b[0m\u001b[38;5;54m]\u001b[0m\u001b[38;5;249m;\u001b[0m",
      " \u001b[38;5;240m  │\u001b[0m           \u001b[38;5;54m─\u001b[0m\u001b[38;5;54m─\u001b[0m\u001b[38;5;54m┬\u001b[0m\u001b[38;5;54m─\u001b[0m  ",
      " \u001b[38;5;240m  │\u001b[0m             \u001b[38;5;54m╰\u001b[0m\u001b[38;5;54m─\u001b[0m\u001b[38;5;54m─\u001b[0m\u001b[38;5;54m─\u001b[0m index out of bounds: the length is 5 but the index is 5",
      "\u001b[38;5;246m───╯\u001b[0m"
     ]
    }
   ],
   "source": [
    "// the compiler prevents access out of array bounds\n",
    "let a = [3; 5];\n",
    "let a_1 = a[5];"
   ]
  }
 ],
 "metadata": {
  "kernelspec": {
   "display_name": "Rust",
   "language": "rust",
   "name": "rust"
  },
  "language_info": {
   "codemirror_mode": "rust",
   "file_extension": ".rs",
   "mimetype": "text/rust",
   "name": "Rust",
   "pygment_lexer": "rust",
   "version": ""
  }
 },
 "nbformat": 4,
 "nbformat_minor": 2
}
