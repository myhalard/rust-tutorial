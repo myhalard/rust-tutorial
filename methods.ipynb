{
 "cells": [
  {
   "cell_type": "code",
   "execution_count": 2,
   "metadata": {},
   "outputs": [
    {
     "name": "stdout",
     "output_type": "stream",
     "text": [
      "area = 200\n"
     ]
    }
   ],
   "source": [
    "// methods are defined in the context of a struct, enum or trait object\n",
    "// reference an instance of the struct, enum or trait object as its first parameter, called self\n",
    "struct Rectangle {\n",
    "    width: u32,\n",
    "    height: u32,\n",
    "}\n",
    "\n",
    "impl Rectangle {\n",
    "    fn area(&self) -> u32 {\n",
    "        self.width * self.height\n",
    "    }\n",
    "}\n",
    "\n",
    "let rect = Rectangle {\n",
    "    width: 10,\n",
    "    height: 20,\n",
    "};\n",
    "let area = rect.area();\n",
    "println!(\"area = {area}\");"
   ]
  },
  {
   "cell_type": "code",
   "execution_count": 4,
   "metadata": {},
   "outputs": [
    {
     "name": "stdout",
     "output_type": "stream",
     "text": [
      "rect = Rectangle { width: 10, height: 20 }\n"
     ]
    }
   ],
   "source": [
    "// associated functions: no self\n",
    "#[derive(Debug)]\n",
    "struct Rectangle {\n",
    "    width: u32,\n",
    "    height: u32,\n",
    "}\n",
    "\n",
    "impl Rectangle {\n",
    "    fn build(width: u32, height: u32) -> Self {\n",
    "        Self {\n",
    "            width,\n",
    "            height,\n",
    "        }\n",
    "    }\n",
    "}\n",
    "\n",
    "let rect = Rectangle::build(10, 20);\n",
    "println!(\"rect = {rect:?}\");"
   ]
  },
  {
   "cell_type": "code",
   "execution_count": 6,
   "metadata": {},
   "outputs": [
    {
     "name": "stdout",
     "output_type": "stream",
     "text": [
      "area = 200, perimeter = 60\n"
     ]
    }
   ],
   "source": [
    "// multiple impl blocks are allowed\n",
    "struct Rectangle {\n",
    "    width: u32,\n",
    "    height: u32,\n",
    "}\n",
    "impl Rectangle {\n",
    "    fn area(&self) -> u32 {\n",
    "        self.width * self.height\n",
    "    }\n",
    "}\n",
    "impl Rectangle {\n",
    "    fn perimeter(&self) -> u32 {\n",
    "        2* (self.width + self.height)\n",
    "    }\n",
    "}\n",
    "\n",
    "let rect = Rectangle {\n",
    "    width: 10,\n",
    "    height: 20,\n",
    "};\n",
    "let area = rect.area();\n",
    "let perimeter = rect.perimeter();\n",
    "println!(\"area = {area}, perimeter = {perimeter}\");"
   ]
  }
 ],
 "metadata": {
  "kernelspec": {
   "display_name": "Rust",
   "language": "rust",
   "name": "rust"
  },
  "language_info": {
   "codemirror_mode": "rust",
   "file_extension": ".rs",
   "mimetype": "text/rust",
   "name": "rust",
   "pygment_lexer": "rust",
   "version": ""
  }
 },
 "nbformat": 4,
 "nbformat_minor": 2
}
