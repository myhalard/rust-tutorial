{
 "cells": [
  {
   "cell_type": "code",
   "execution_count": 2,
   "metadata": {
    "vscode": {
     "languageId": "rust"
    }
   },
   "outputs": [],
   "source": [
    "// structs\n",
    "struct User {\n",
    "    username: String,\n",
    "    email: String,\n",
    "    age: u32,\n",
    "}"
   ]
  },
  {
   "cell_type": "code",
   "execution_count": null,
   "metadata": {
    "vscode": {
     "languageId": "rust"
    }
   },
   "outputs": [],
   "source": [
    "// create an instance of User\n",
    "let user_instance = User {\n",
    "    username: String::from(\"a_user\"),\n",
    "    email: String::from(\"user@example.com\"),\n",
    "    age: 49,\n",
    "};"
   ]
  },
  {
   "cell_type": "code",
   "execution_count": 4,
   "metadata": {
    "vscode": {
     "languageId": "rust"
    }
   },
   "outputs": [
    {
     "name": "stdout",
     "output_type": "stream",
     "text": [
      "username = a_user\n"
     ]
    }
   ],
   "source": [
    "// access values in a struct instance with . syntax\n",
    "let user_instance = User {\n",
    "    username: String::from(\"a_user\"),\n",
    "    email: String::from(\"user@example.com\"),\n",
    "    age: 49,\n",
    "};\n",
    "\n",
    "let username = user_instance.username;\n",
    "println!(\"username = {username}\");"
   ]
  },
  {
   "cell_type": "code",
   "execution_count": 6,
   "metadata": {
    "vscode": {
     "languageId": "rust"
    }
   },
   "outputs": [
    {
     "name": "stdout",
     "output_type": "stream",
     "text": [
      "username = another_user\n"
     ]
    }
   ],
   "source": [
    "// a mutable struct variable can have its fields modified\n",
    "let mut user_instance = User {\n",
    "    username: String::from(\"a_user\"),\n",
    "    email: String::from(\"user@example.com\"),\n",
    "    age: 49,\n",
    "};\n",
    "\n",
    "user_instance.username = String::from(\"another_user\");\n",
    "println!(\"username = {}\", user_instance.username);"
   ]
  },
  {
   "cell_type": "code",
   "execution_count": 7,
   "metadata": {
    "vscode": {
     "languageId": "rust"
    }
   },
   "outputs": [
    {
     "name": "stdout",
     "output_type": "stream",
     "text": [
      "username = another_user\n"
     ]
    }
   ],
   "source": [
    "// a mutable struct variable can be assigned to another instance\n",
    "let mut user_instance = User {\n",
    "    username: String::from(\"a_user\"),\n",
    "    email: String::from(\"user@example.com\"),\n",
    "    age: 49,\n",
    "};\n",
    "\n",
    "user_instance = User {\n",
    "    username: String::from(\"another_user\"),\n",
    "    email: String::from(\"another_user@example.com\"),\n",
    "    age: 21,\n",
    "};\n",
    "\n",
    "println!(\"username = {}\", user_instance.username);"
   ]
  },
  {
   "cell_type": "code",
   "execution_count": 8,
   "metadata": {
    "vscode": {
     "languageId": "rust"
    }
   },
   "outputs": [],
   "source": [
    "// field init shorthand\n",
    "let username = String::from(\"a_user\");\n",
    "let age = 49;\n",
    "\n",
    "let user_instance = User {\n",
    "    username,\n",
    "    email: String::from(\"user@example.com\"),\n",
    "    age,\n",
    "};\n"
   ]
  },
  {
   "cell_type": "code",
   "execution_count": 11,
   "metadata": {
    "vscode": {
     "languageId": "rust"
    }
   },
   "outputs": [
    {
     "name": "stdout",
     "output_type": "stream",
     "text": [
      "other_user_instance.username = a_user ; other_user_instance.email = another_user@example.com\n"
     ]
    },
    {
     "data": {
      "text/plain": [
       "()"
      ]
     },
     "execution_count": 11,
     "metadata": {},
     "output_type": "execute_result"
    }
   ],
   "source": [
    "// create instances with struct update syntax\n",
    "let user_instance = User {\n",
    "    username: String::from(\"a_user\"),\n",
    "    email: String::from(\"user@example.com\"),\n",
    "    age: 49,\n",
    "};\n",
    "\n",
    "let other_user_instance = User {\n",
    "    email: String::from(\"another_user@example.com\"),\n",
    "    ..user_instance\n",
    "};\n",
    "println!(\"other_user_instance.username = {} ; other_user_instance.email = {}\", other_user_instance.username, other_user_instance.email)\n"
   ]
  },
  {
   "cell_type": "code",
   "execution_count": 13,
   "metadata": {
    "vscode": {
     "languageId": "rust"
    }
   },
   "outputs": [
    {
     "ename": "Error",
     "evalue": "borrow of moved value: `user_instance.username`",
     "output_type": "error",
     "traceback": [
      "\u001b[31m[E0382] Error:\u001b[0m borrow of moved value: `user_instance.username`",
      "    \u001b[38;5;246m╭\u001b[0m\u001b[38;5;246m─\u001b[0m\u001b[38;5;246m[\u001b[0mcommand_13:1:1\u001b[38;5;246m]\u001b[0m",
      "    \u001b[38;5;246m│\u001b[0m",
      " \u001b[38;5;246m 8 │\u001b[0m \u001b[38;5;54m╭\u001b[0m\u001b[38;5;54m─\u001b[0m\u001b[38;5;54m▶\u001b[0m\u001b[38;5;54m \u001b[0m\u001b[38;5;249ml\u001b[0m\u001b[38;5;249me\u001b[0m\u001b[38;5;249mt\u001b[0m\u001b[38;5;249m \u001b[0m\u001b[38;5;249mo\u001b[0m\u001b[38;5;249mt\u001b[0m\u001b[38;5;249mh\u001b[0m\u001b[38;5;249me\u001b[0m\u001b[38;5;249mr\u001b[0m\u001b[38;5;249m_\u001b[0m\u001b[38;5;249mu\u001b[0m\u001b[38;5;249ms\u001b[0m\u001b[38;5;249me\u001b[0m\u001b[38;5;249mr\u001b[0m\u001b[38;5;249m_\u001b[0m\u001b[38;5;249mi\u001b[0m\u001b[38;5;249mn\u001b[0m\u001b[38;5;249ms\u001b[0m\u001b[38;5;249mt\u001b[0m\u001b[38;5;249ma\u001b[0m\u001b[38;5;249mn\u001b[0m\u001b[38;5;249mc\u001b[0m\u001b[38;5;249me\u001b[0m\u001b[38;5;249m \u001b[0m\u001b[38;5;249m=\u001b[0m\u001b[38;5;249m \u001b[0m\u001b[38;5;54mU\u001b[0m\u001b[38;5;54ms\u001b[0m\u001b[38;5;54me\u001b[0m\u001b[38;5;54mr\u001b[0m\u001b[38;5;54m \u001b[0m\u001b[38;5;54m{\u001b[0m",
      " \u001b[38;5;240m   ┆\u001b[0m \u001b[38;5;54m┆\u001b[0m   ",
      " \u001b[38;5;246m11 │\u001b[0m \u001b[38;5;54m├\u001b[0m\u001b[38;5;54m─\u001b[0m\u001b[38;5;54m▶\u001b[0m\u001b[38;5;54m \u001b[0m\u001b[38;5;54m}\u001b[0m\u001b[38;5;249m;\u001b[0m",
      " \u001b[38;5;240m   │\u001b[0m \u001b[38;5;54m│\u001b[0m        ",
      " \u001b[38;5;240m   │\u001b[0m \u001b[38;5;54m╰\u001b[0m\u001b[38;5;54m─\u001b[0m\u001b[38;5;54m─\u001b[0m\u001b[38;5;54m─\u001b[0m\u001b[38;5;54m─\u001b[0m\u001b[38;5;54m─\u001b[0m\u001b[38;5;54m─\u001b[0m\u001b[38;5;54m─\u001b[0m\u001b[38;5;54m─\u001b[0m value moved here",
      " \u001b[38;5;246m12 │\u001b[0m     \u001b[38;5;249mp\u001b[0m\u001b[38;5;249mr\u001b[0m\u001b[38;5;249mi\u001b[0m\u001b[38;5;249mn\u001b[0m\u001b[38;5;249mt\u001b[0m\u001b[38;5;249ml\u001b[0m\u001b[38;5;249mn\u001b[0m\u001b[38;5;249m!\u001b[0m\u001b[38;5;249m(\u001b[0m\u001b[38;5;249m\"\u001b[0m\u001b[38;5;249mu\u001b[0m\u001b[38;5;249ms\u001b[0m\u001b[38;5;249me\u001b[0m\u001b[38;5;249mr\u001b[0m\u001b[38;5;249m_\u001b[0m\u001b[38;5;249mi\u001b[0m\u001b[38;5;249mn\u001b[0m\u001b[38;5;249ms\u001b[0m\u001b[38;5;249mt\u001b[0m\u001b[38;5;249ma\u001b[0m\u001b[38;5;249mn\u001b[0m\u001b[38;5;249mc\u001b[0m\u001b[38;5;249me\u001b[0m\u001b[38;5;249m.\u001b[0m\u001b[38;5;249mu\u001b[0m\u001b[38;5;249ms\u001b[0m\u001b[38;5;249me\u001b[0m\u001b[38;5;249mr\u001b[0m\u001b[38;5;249mn\u001b[0m\u001b[38;5;249ma\u001b[0m\u001b[38;5;249mm\u001b[0m\u001b[38;5;249me\u001b[0m\u001b[38;5;249m \u001b[0m\u001b[38;5;249m=\u001b[0m\u001b[38;5;249m \u001b[0m\u001b[38;5;249m{\u001b[0m\u001b[38;5;249m}\u001b[0m\u001b[38;5;249m\"\u001b[0m\u001b[38;5;249m,\u001b[0m\u001b[38;5;249m \u001b[0m\u001b[38;5;100mu\u001b[0m\u001b[38;5;100ms\u001b[0m\u001b[38;5;100me\u001b[0m\u001b[38;5;100mr\u001b[0m\u001b[38;5;100m_\u001b[0m\u001b[38;5;100mi\u001b[0m\u001b[38;5;100mn\u001b[0m\u001b[38;5;100ms\u001b[0m\u001b[38;5;100mt\u001b[0m\u001b[38;5;100ma\u001b[0m\u001b[38;5;100mn\u001b[0m\u001b[38;5;100mc\u001b[0m\u001b[38;5;100me\u001b[0m\u001b[38;5;100m.\u001b[0m\u001b[38;5;100mu\u001b[0m\u001b[38;5;100ms\u001b[0m\u001b[38;5;100me\u001b[0m\u001b[38;5;100mr\u001b[0m\u001b[38;5;100mn\u001b[0m\u001b[38;5;100ma\u001b[0m\u001b[38;5;100mm\u001b[0m\u001b[38;5;100me\u001b[0m\u001b[38;5;249m)\u001b[0m",
      " \u001b[38;5;240m   │\u001b[0m                                             \u001b[38;5;100m─\u001b[0m\u001b[38;5;100m─\u001b[0m\u001b[38;5;100m─\u001b[0m\u001b[38;5;100m─\u001b[0m\u001b[38;5;100m─\u001b[0m\u001b[38;5;100m─\u001b[0m\u001b[38;5;100m─\u001b[0m\u001b[38;5;100m─\u001b[0m\u001b[38;5;100m─\u001b[0m\u001b[38;5;100m─\u001b[0m\u001b[38;5;100m─\u001b[0m\u001b[38;5;100m┬\u001b[0m\u001b[38;5;100m─\u001b[0m\u001b[38;5;100m─\u001b[0m\u001b[38;5;100m─\u001b[0m\u001b[38;5;100m─\u001b[0m\u001b[38;5;100m─\u001b[0m\u001b[38;5;100m─\u001b[0m\u001b[38;5;100m─\u001b[0m\u001b[38;5;100m─\u001b[0m\u001b[38;5;100m─\u001b[0m\u001b[38;5;100m─\u001b[0m  ",
      " \u001b[38;5;240m   │\u001b[0m                                                        \u001b[38;5;100m╰\u001b[0m\u001b[38;5;100m─\u001b[0m\u001b[38;5;100m─\u001b[0m\u001b[38;5;100m─\u001b[0m\u001b[38;5;100m─\u001b[0m\u001b[38;5;100m─\u001b[0m\u001b[38;5;100m─\u001b[0m\u001b[38;5;100m─\u001b[0m\u001b[38;5;100m─\u001b[0m\u001b[38;5;100m─\u001b[0m\u001b[38;5;100m─\u001b[0m\u001b[38;5;100m─\u001b[0m\u001b[38;5;100m─\u001b[0m value borrowed here after move",
      "\u001b[38;5;246m────╯\u001b[0m"
     ]
    }
   ],
   "source": [
    "// but username of user_instance is moved to other_user_instance, so user_instance.username can no longer be used\n",
    "let user_instance = User {\n",
    "    username: String::from(\"a_user\"),\n",
    "    email: String::from(\"user@example.com\"),\n",
    "    age: 49,\n",
    "};\n",
    "\n",
    "let other_user_instance = User {\n",
    "    email: String::from(\"another_user@example.com\"),\n",
    "    ..user_instance\n",
    "};\n",
    "println!(\"user_instance.username = {}\", user_instance.username)"
   ]
  },
  {
   "cell_type": "code",
   "execution_count": 15,
   "metadata": {
    "vscode": {
     "languageId": "rust"
    }
   },
   "outputs": [
    {
     "name": "stdout",
     "output_type": "stream",
     "text": [
      "r = 0, g= 1, b = 2\n"
     ]
    }
   ],
   "source": [
    "// tuple structs, different type but no name for fields\n",
    "struct Color(i32, i32, i32);\n",
    "let black = Color(0, 1, 2);\n",
    "let r = black.0;\n",
    "let g = black.1;\n",
    "let b = black.2;\n",
    "println!(\"r = {r}, g= {g}, b = {b}\");"
   ]
  },
  {
   "cell_type": "code",
   "execution_count": 19,
   "metadata": {
    "vscode": {
     "languageId": "rust"
    }
   },
   "outputs": [],
   "source": [
    "// unit like struct. A struct with no field\n",
    "struct UnitStruct;\n",
    "let unit_struct = UnitStruct;"
   ]
  },
  {
   "cell_type": "code",
   "execution_count": 28,
   "metadata": {
    "vscode": {
     "languageId": "rust"
    }
   },
   "outputs": [
    {
     "name": "stderr",
     "output_type": "stream",
     "text": [
      "[src/lib.rs:127:1] &rect = Rectangle {\n",
      "    width: 20,\n",
      "    height: 10,\n",
      "}\n"
     ]
    },
    {
     "name": "stdout",
     "output_type": "stream",
     "text": [
      "rect = Rectangle { width: 20, height: 10 }\n"
     ]
    }
   ],
   "source": [
    "// derive Debug to use Rectangle instances in dbg! and println! with debug formatting\n",
    "#[derive(Debug)]\n",
    "struct Rectangle {\n",
    "    width: u32,\n",
    "    height: u32,\n",
    "}\n",
    "let rect = Rectangle {\n",
    "    width: 20,\n",
    "    height: 10,\n",
    "};\n",
    "dbg!(&rect);\n",
    "println!(\"rect = {rect:?}\");\n"
   ]
  }
 ],
 "metadata": {
  "kernelspec": {
   "display_name": "Rust",
   "language": "rust",
   "name": "rust"
  },
  "language_info": {
   "codemirror_mode": "rust",
   "file_extension": ".rs",
   "mimetype": "text/rust",
   "name": "Rust",
   "pygment_lexer": "rust",
   "version": ""
  }
 },
 "nbformat": 4,
 "nbformat_minor": 2
}
