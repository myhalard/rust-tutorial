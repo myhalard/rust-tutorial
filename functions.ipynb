{
 "cells": [
  {
   "cell_type": "code",
   "execution_count": 2,
   "metadata": {
    "vscode": {
     "languageId": "rust"
    }
   },
   "outputs": [
    {
     "name": "stdout",
     "output_type": "stream",
     "text": [
      "A function\n"
     ]
    }
   ],
   "source": [
    "// function definition and invocation\n",
    "fn a_function() {\n",
    "    println!(\"A function\");\n",
    "}\n",
    "a_function();"
   ]
  },
  {
   "cell_type": "code",
   "execution_count": 3,
   "metadata": {
    "vscode": {
     "languageId": "rust"
    }
   },
   "outputs": [
    {
     "name": "stdout",
     "output_type": "stream",
     "text": [
      "x = 6\n"
     ]
    }
   ],
   "source": [
    "fn a_function_with_one_parameter(x: i32) {\n",
    "    println!(\"x = {x}\");\n",
    "}\n",
    "a_function_with_one_parameter(6);"
   ]
  },
  {
   "cell_type": "code",
   "execution_count": 4,
   "metadata": {
    "vscode": {
     "languageId": "rust"
    }
   },
   "outputs": [
    {
     "name": "stdout",
     "output_type": "stream",
     "text": [
      "x = 6; y = A\n"
     ]
    }
   ],
   "source": [
    "fn a_function_with_two_parameter(x: i32, y: char) {\n",
    "    println!(\"x = {x}; y = {y}\");\n",
    "}\n",
    "a_function_with_two_parameter(6, 'A');"
   ]
  },
  {
   "cell_type": "code",
   "execution_count": 5,
   "metadata": {
    "vscode": {
     "languageId": "rust"
    }
   },
   "outputs": [
    {
     "name": "stdout",
     "output_type": "stream",
     "text": [
      "x = 6\n"
     ]
    }
   ],
   "source": [
    "fn a_function_with_a_retuen_value() -> i32 {\n",
    "    6\n",
    "}\n",
    "let x = a_function_with_a_retuen_value();\n",
    "println!(\"x = {x}\");"
   ]
  }
 ],
 "metadata": {
  "kernelspec": {
   "display_name": "Rust",
   "language": "rust",
   "name": "rust"
  },
  "language_info": {
   "codemirror_mode": "rust",
   "file_extension": ".rs",
   "mimetype": "text/rust",
   "name": "Rust",
   "pygment_lexer": "rust",
   "version": ""
  }
 },
 "nbformat": 4,
 "nbformat_minor": 2
}
