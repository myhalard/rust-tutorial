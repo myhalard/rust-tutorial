{
 "cells": [
  {
   "cell_type": "code",
   "execution_count": 11,
   "metadata": {
    "vscode": {
     "languageId": "rust"
    }
   },
   "outputs": [],
   "source": [
    "// enums\n",
    "enum Shape {\n",
    "    Rectangle,\n",
    "    Triangle,\n",
    "    Circle,\n",
    "}\n",
    "\n",
    "let circle = Shape::Circle;"
   ]
  },
  {
   "cell_type": "code",
   "execution_count": 19,
   "metadata": {
    "vscode": {
     "languageId": "rust"
    }
   },
   "outputs": [],
   "source": [
    "// each enum variant can have different types and amounts of associated data\n",
    "enum SpreadsheetCell {\n",
    "    Int(i32),\n",
    "    Float(f64),\n",
    "    Text(String),\n",
    "}"
   ]
  },
  {
   "cell_type": "code",
   "execution_count": 13,
   "metadata": {
    "vscode": {
     "languageId": "rust"
    }
   },
   "outputs": [
    {
     "name": "stderr",
     "output_type": "stream",
     "text": [
      "The type of the variable circle was redefined, so was lost.\n"
     ]
    }
   ],
   "source": [
    "// option\n",
    "let s = Some(5);\n",
    "let n : Option<i32> = None;\n"
   ]
  },
  {
   "cell_type": "code",
   "execution_count": 14,
   "metadata": {
    "vscode": {
     "languageId": "rust"
    }
   },
   "outputs": [
    {
     "name": "stdout",
     "output_type": "stream",
     "text": [
      "Some: x = 5\n"
     ]
    },
    {
     "data": {
      "text/plain": [
       "()"
      ]
     },
     "execution_count": 14,
     "metadata": {},
     "output_type": "execute_result"
    }
   ],
   "source": [
    "// match\n",
    "let s = Some(5);\n",
    "match s {\n",
    "    Some(x) => println!(\"Some: x = {x}\"),\n",
    "    None => println!(\"None\"),\n",
    "}\n"
   ]
  },
  {
   "cell_type": "code",
   "execution_count": 15,
   "metadata": {
    "vscode": {
     "languageId": "rust"
    }
   },
   "outputs": [
    {
     "name": "stdout",
     "output_type": "stream",
     "text": [
      "value = 5\n"
     ]
    }
   ],
   "source": [
    "// match is an expression\n",
    "enum Coin {\n",
    "    Penny,\n",
    "    Nickel,\n",
    "    Dime,\n",
    "    Quarter,\n",
    "}\n",
    "let coin = Coin::Nickel;\n",
    "let value = match coin {\n",
    "    Coin::Penny => 1,\n",
    "    Coin::Nickel => 5,\n",
    "    Coin::Dime => 10,\n",
    "    Coin::Quarter => 25,\n",
    "};\n",
    "println!(\"value = {value}\");"
   ]
  },
  {
   "cell_type": "code",
   "execution_count": 16,
   "metadata": {
    "vscode": {
     "languageId": "rust"
    }
   },
   "outputs": [
    {
     "ename": "Error",
     "evalue": "non-exhaustive patterns: `None` not covered",
     "output_type": "error",
     "traceback": [
      "\u001b[31m[E0004] Error:\u001b[0m non-exhaustive patterns: `None` not covered",
      "   \u001b[38;5;246m╭\u001b[0m\u001b[38;5;246m─\u001b[0m\u001b[38;5;246m[\u001b[0mcommand_16:1:1\u001b[38;5;246m]\u001b[0m",
      "   \u001b[38;5;246m│\u001b[0m",
      " \u001b[38;5;246m3 │\u001b[0m \u001b[38;5;249mm\u001b[0m\u001b[38;5;249ma\u001b[0m\u001b[38;5;249mt\u001b[0m\u001b[38;5;249mc\u001b[0m\u001b[38;5;249mh\u001b[0m\u001b[38;5;249m \u001b[0m\u001b[38;5;54ms\u001b[0m\u001b[38;5;249m \u001b[0m\u001b[38;5;249m{\u001b[0m",
      " \u001b[38;5;240m  │\u001b[0m       \u001b[38;5;54m┬\u001b[0m  ",
      " \u001b[38;5;240m  │\u001b[0m       \u001b[38;5;54m╰\u001b[0m\u001b[38;5;54m─\u001b[0m\u001b[38;5;54m─\u001b[0m pattern `None` not covered",
      " \u001b[38;5;246m4 │\u001b[0m \u001b[38;5;249m \u001b[0m\u001b[38;5;249m \u001b[0m\u001b[38;5;249m \u001b[0m\u001b[38;5;249m \u001b[0m\u001b[38;5;249mS\u001b[0m\u001b[38;5;249mo\u001b[0m\u001b[38;5;249mm\u001b[0m\u001b[38;5;249me\u001b[0m\u001b[38;5;249m(\u001b[0m\u001b[38;5;249m_\u001b[0m\u001b[38;5;249m)\u001b[0m\u001b[38;5;249m \u001b[0m\u001b[38;5;249m=\u001b[0m\u001b[38;5;249m>\u001b[0m\u001b[38;5;249m \u001b[0m\u001b[38;5;249mp\u001b[0m\u001b[38;5;249mr\u001b[0m\u001b[38;5;249mi\u001b[0m\u001b[38;5;249mn\u001b[0m\u001b[38;5;249mt\u001b[0m\u001b[38;5;249ml\u001b[0m\u001b[38;5;249mn\u001b[0m\u001b[38;5;249m!\u001b[0m\u001b[38;5;249m(\u001b[0m\u001b[38;5;249m\"\u001b[0m\u001b[38;5;249mm\u001b[0m\u001b[38;5;249ma\u001b[0m\u001b[38;5;249mt\u001b[0m\u001b[38;5;249mc\u001b[0m\u001b[38;5;249mh\u001b[0m\u001b[38;5;249me\u001b[0m\u001b[38;5;249md\u001b[0m\u001b[38;5;249m\"\u001b[0m\u001b[38;5;249m)\u001b[0m\u001b[38;5;249m,\u001b[0m",
      " \u001b[38;5;240m  │\u001b[0m                                   \u001b[38;5;100m│\u001b[0m ",
      " \u001b[38;5;240m  │\u001b[0m                                   \u001b[38;5;100m╰\u001b[0m\u001b[38;5;100m─\u001b[0m help: ensure that all possible cases are being handled by adding a match arm with a wildcard pattern or an explicit pattern as shown: `,",
      "    None => todo!()`",
      "\u001b[38;5;246m───╯\u001b[0m"
     ]
    }
   ],
   "source": [
    "// matches are exhaustive, all patterns must be covered\n",
    "let s = Some(5);\n",
    "match s {\n",
    "    Some(_) => println!(\"matched\"),\n",
    "}"
   ]
  },
  {
   "cell_type": "code",
   "execution_count": 17,
   "metadata": {
    "vscode": {
     "languageId": "rust"
    }
   },
   "outputs": [
    {
     "name": "stdout",
     "output_type": "stream",
     "text": [
      "value = 0\n"
     ]
    }
   ],
   "source": [
    "// catch all clause\n",
    "enum Coin {\n",
    "    Penny,\n",
    "    Nickel,\n",
    "    Dime,\n",
    "    Quarter,\n",
    "}\n",
    "let coin = Coin::Nickel;\n",
    "let value = match coin {\n",
    "    Coin::Penny => 1,\n",
    "    _ => 0,\n",
    "};\n",
    "println!(\"value = {value}\");"
   ]
  },
  {
   "cell_type": "code",
   "execution_count": 18,
   "metadata": {
    "vscode": {
     "languageId": "rust"
    }
   },
   "outputs": [
    {
     "name": "stdout",
     "output_type": "stream",
     "text": [
      "value = 5\n"
     ]
    },
    {
     "data": {
      "text/plain": [
       "()"
      ]
     },
     "execution_count": 18,
     "metadata": {},
     "output_type": "execute_result"
    }
   ],
   "source": [
    "// if-let\n",
    "// the code in the if let block runs if the value matches the pattern\n",
    "let o = Some(5);\n",
    "if let Some(value) = o {\n",
    "    println!(\"value = {value}\");\n",
    "}\n",
    "else {\n",
    "    println!(\"the if-let didn't match\");\n",
    "}"
   ]
  }
 ],
 "metadata": {
  "kernelspec": {
   "display_name": "Rust",
   "language": "rust",
   "name": "rust"
  },
  "language_info": {
   "codemirror_mode": "rust",
   "file_extension": ".rs",
   "mimetype": "text/rust",
   "name": "Rust",
   "pygment_lexer": "rust",
   "version": ""
  }
 },
 "nbformat": 4,
 "nbformat_minor": 2
}
