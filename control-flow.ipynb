{
 "cells": [
  {
   "cell_type": "code",
   "execution_count": 2,
   "metadata": {
    "vscode": {
     "languageId": "rust"
    }
   },
   "outputs": [
    {
     "name": "stdout",
     "output_type": "stream",
     "text": [
      "True case\n"
     ]
    },
    {
     "data": {
      "text/plain": [
       "()"
      ]
     },
     "execution_count": 2,
     "metadata": {},
     "output_type": "execute_result"
    }
   ],
   "source": [
    "// if\n",
    "let condition = true;\n",
    "if condition  {\n",
    "    println!(\"True case\");\n",
    "}"
   ]
  },
  {
   "cell_type": "code",
   "execution_count": 3,
   "metadata": {
    "vscode": {
     "languageId": "rust"
    }
   },
   "outputs": [
    {
     "name": "stdout",
     "output_type": "stream",
     "text": [
      "x = 6\n"
     ]
    }
   ],
   "source": [
    "// if are expressions. Both the if and else branch must return the same type\n",
    "let condition = true;\n",
    "let x = if condition  {\n",
    "    6\n",
    "}\n",
    "else {\n",
    "    5\n",
    "};\n",
    "println!(\"x = {x}\");\n"
   ]
  },
  {
   "cell_type": "code",
   "execution_count": 4,
   "metadata": {
    "vscode": {
     "languageId": "rust"
    }
   },
   "outputs": [
    {
     "name": "stdout",
     "output_type": "stream",
     "text": [
      "count = 0\n",
      "count = 1\n",
      "count = 2\n",
      "count = 3\n"
     ]
    },
    {
     "data": {
      "text/plain": [
       "()"
      ]
     },
     "execution_count": 4,
     "metadata": {},
     "output_type": "execute_result"
    }
   ],
   "source": [
    "// loop loops forever unless it is breaked\n",
    "let mut count = 0;\n",
    "loop {\n",
    "    println!(\"count = {count}\");\n",
    "    count += 1;\n",
    "    if count > 3 {\n",
    "        break;\n",
    "    }\n",
    "}"
   ]
  },
  {
   "cell_type": "code",
   "execution_count": 5,
   "metadata": {
    "vscode": {
     "languageId": "rust"
    }
   },
   "outputs": [
    {
     "name": "stdout",
     "output_type": "stream",
     "text": [
      "x = 4\n"
     ]
    }
   ],
   "source": [
    "// loop is also an expression\n",
    "let mut count = 0;\n",
    "let x = loop {\n",
    "    count += 1;\n",
    "    if count > 3 {\n",
    "        break count\n",
    "    }\n",
    "};\n",
    "println!(\"x = {x}\");"
   ]
  },
  {
   "cell_type": "code",
   "execution_count": 6,
   "metadata": {
    "vscode": {
     "languageId": "rust"
    }
   },
   "outputs": [
    {
     "name": "stdout",
     "output_type": "stream",
     "text": [
      "outer_count = 0, inner_count = 0\n",
      "outer_count = 0, inner_count = 1\n",
      "outer_count = 1, inner_count = 0\n",
      "outer_count = 1, inner_count = 1\n",
      "outer_count = 2, inner_count = 0\n",
      "outer_count = 2, inner_count = 1\n",
      "outer_count = 3, inner_count = 0\n"
     ]
    },
    {
     "data": {
      "text/plain": [
       "()"
      ]
     },
     "execution_count": 6,
     "metadata": {},
     "output_type": "execute_result"
    }
   ],
   "source": [
    "// labels\n",
    "let mut outer_count = 0;\n",
    "'outer_label: loop {\n",
    "    let mut inner_count = 0;\n",
    "\n",
    "    loop {\n",
    "        println!(\"outer_count = {outer_count}, inner_count = {inner_count}\");\n",
    "        if inner_count == 1 {\n",
    "            break;\n",
    "        }\n",
    "        if outer_count == 3 {\n",
    "            break 'outer_label;\n",
    "        }\n",
    "        inner_count += 1;\n",
    "    }\n",
    "    outer_count += 1;\n",
    "}"
   ]
  },
  {
   "cell_type": "code",
   "execution_count": 7,
   "metadata": {
    "vscode": {
     "languageId": "rust"
    }
   },
   "outputs": [
    {
     "name": "stdout",
     "output_type": "stream",
     "text": [
      "count = 0\n",
      "count = 1\n",
      "count = 2\n",
      "count = 3\n"
     ]
    },
    {
     "data": {
      "text/plain": [
       "()"
      ]
     },
     "execution_count": 7,
     "metadata": {},
     "output_type": "execute_result"
    }
   ],
   "source": [
    "// while\n",
    "let mut count = 0;\n",
    "while count < 4 {\n",
    "    println!(\"count = {count}\");\n",
    "    count += 1;\n",
    "}"
   ]
  },
  {
   "cell_type": "code",
   "execution_count": 8,
   "metadata": {
    "vscode": {
     "languageId": "rust"
    }
   },
   "outputs": [
    {
     "name": "stdout",
     "output_type": "stream",
     "text": [
      "i = 1\n",
      "i = 2\n",
      "i = 3\n",
      "i = 4\n",
      "i = 5\n"
     ]
    },
    {
     "data": {
      "text/plain": [
       "()"
      ]
     },
     "execution_count": 8,
     "metadata": {},
     "output_type": "execute_result"
    }
   ],
   "source": [
    "// for\n",
    "let items = [1, 2, 3, 4, 5];\n",
    "\n",
    "for i in items {\n",
    "    println!(\"i = {i}\");\n",
    "}"
   ]
  }
 ],
 "metadata": {
  "kernelspec": {
   "display_name": "Rust",
   "language": "rust",
   "name": "rust"
  },
  "language_info": {
   "codemirror_mode": "rust",
   "file_extension": ".rs",
   "mimetype": "text/rust",
   "name": "Rust",
   "pygment_lexer": "rust",
   "version": ""
  }
 },
 "nbformat": 4,
 "nbformat_minor": 2
}
