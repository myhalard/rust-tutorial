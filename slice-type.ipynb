{
 "cells": [
  {
   "cell_type": "code",
   "execution_count": 3,
   "metadata": {
    "vscode": {
     "languageId": "rust"
    }
   },
   "outputs": [
    {
     "name": "stdout",
     "output_type": "stream",
     "text": [
      "slice_1 = 'hello', slice_2 = 'world'\n"
     ]
    },
    {
     "data": {
      "text/plain": [
       "()"
      ]
     },
     "execution_count": 3,
     "metadata": {},
     "output_type": "execute_result"
    }
   ],
   "source": [
    "// slice type\n",
    "// a slices references a contiguous sequence of elements in a collection\n",
    "// a slice is a kind of reference\n",
    "// let slice = &s[starting_index..ending_index]\n",
    "// starting index is included in the slice, not the ending index\n",
    "let s = String::from(\"hello world\");\n",
    "{\n",
    "    let slice_1 = &s[0..5];\n",
    "    let slice_2 = &s[6..11];\n",
    "    println!(\"slice_1 = '{slice_1}', slice_2 = '{slice_2}'\");\n",
    "}"
   ]
  },
  {
   "cell_type": "code",
   "execution_count": 4,
   "metadata": {
    "vscode": {
     "languageId": "rust"
    }
   },
   "outputs": [
    {
     "name": "stdout",
     "output_type": "stream",
     "text": [
      "slice_1 = 'hello', slice_2 = 'll'\n"
     ]
    },
    {
     "data": {
      "text/plain": [
       "()"
      ]
     },
     "execution_count": 4,
     "metadata": {},
     "output_type": "execute_result"
    }
   ],
   "source": [
    "// you can slice a slice\n",
    "let s = String::from(\"hello world\");\n",
    "{\n",
    "    let slice_1 = &s[0..5];\n",
    "    let slice_2 = &slice_1[2..4];\n",
    "    println!(\"slice_1 = '{slice_1}', slice_2 = '{slice_2}'\");\n",
    "}\n"
   ]
  },
  {
   "cell_type": "code",
   "execution_count": 5,
   "metadata": {
    "vscode": {
     "languageId": "rust"
    }
   },
   "outputs": [
    {
     "name": "stdout",
     "output_type": "stream",
     "text": [
      "slice_1 = 'hello', slice_2 = 'll'\n"
     ]
    },
    {
     "data": {
      "text/plain": [
       "()"
      ]
     },
     "execution_count": 5,
     "metadata": {},
     "output_type": "execute_result"
    }
   ],
   "source": [
    "// String slice = &str\n",
    "let s = String::from(\"hello world\");\n",
    "{\n",
    "    let slice_1 : &str = &s[0..5];\n",
    "    let slice_2 : &str = &slice_1[2..4];\n",
    "    println!(\"slice_1 = '{slice_1}', slice_2 = '{slice_2}'\");\n",
    "}\n"
   ]
  },
  {
   "cell_type": "code",
   "execution_count": 6,
   "metadata": {
    "vscode": {
     "languageId": "rust"
    }
   },
   "outputs": [
    {
     "name": "stdout",
     "output_type": "stream",
     "text": [
      "s = hello world\n"
     ]
    }
   ],
   "source": [
    "// the type of a variable that binds a String litteral is &str\n",
    "let s : &str = \"hello world\";\n",
    "println!(\"s = {s}\");"
   ]
  },
  {
   "cell_type": "code",
   "execution_count": 14,
   "metadata": {
    "vscode": {
     "languageId": "rust"
    }
   },
   "outputs": [
    {
     "data": {
      "text/plain": [
       "()"
      ]
     },
     "execution_count": 14,
     "metadata": {},
     "output_type": "execute_result"
    }
   ],
   "source": [
    "// slicing works for other types\n",
    "let a = [1, 2, 3, 4, 5];\n",
    "{\n",
    "    let slice : &[i32] = &a[1..3];\n",
    "}"
   ]
  }
 ],
 "metadata": {
  "kernelspec": {
   "display_name": "Rust",
   "language": "rust",
   "name": "rust"
  },
  "language_info": {
   "codemirror_mode": "rust",
   "file_extension": ".rs",
   "mimetype": "text/rust",
   "name": "Rust",
   "pygment_lexer": "rust",
   "version": ""
  }
 },
 "nbformat": 4,
 "nbformat_minor": 2
}
